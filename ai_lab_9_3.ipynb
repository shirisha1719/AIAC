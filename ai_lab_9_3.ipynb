{
  "nbformat": 4,
  "nbformat_minor": 0,
  "metadata": {
    "colab": {
      "provenance": [],
      "toc_visible": true,
      "authorship_tag": "ABX9TyOJJo4DQJTbQNyo8wEEp6sm",
      "include_colab_link": true
    },
    "kernelspec": {
      "name": "python3",
      "display_name": "Python 3"
    },
    "language_info": {
      "name": "python"
    }
  },
  "cells": [
    {
      "cell_type": "markdown",
      "metadata": {
        "id": "view-in-github",
        "colab_type": "text"
      },
      "source": [
        "<a href=\"https://colab.research.google.com/github/shirisha1719/AIAC/blob/main/ai_lab_9_3.ipynb\" target=\"_parent\"><img src=\"https://colab.research.google.com/assets/colab-badge.svg\" alt=\"Open In Colab\"/></a>"
      ]
    },
    {
      "cell_type": "markdown",
      "source": [],
      "metadata": {
        "id": "Me7llexZYlQE"
      }
    },
    {
      "cell_type": "markdown",
      "source": [
        "TASK 1:\n",
        "•\tWrite python function to return sum of even and odd numbers in the given list.  \n",
        "•\tIncorporate manual docstring in code with Google Style\n",
        "•\tUse an AI-assisted tool (e.g., Copilot,  Cursor AI) to generate a docstring describing the function.\n",
        "•\tCompare the AI-generated docstring with your manually written one.\n",
        "\n"
      ],
      "metadata": {
        "id": "vYNiF9SKYnpI"
      }
    },
    {
      "cell_type": "markdown",
      "source": [
        "PROMPT:\n"
      ],
      "metadata": {
        "id": "0h2nlk9yZID-"
      }
    },
    {
      "cell_type": "markdown",
      "source": [
        "\n",
        "•\tWrite python function to return sum of even and odd numbers in the given list.  \n",
        "•\tIncorporate manual docstring in code with Google Style\n",
        "•\tUse an AI-assisted tool (e.g., Copilot,  Cursor AI) to generate a docstring describing the function.\n",
        "•\tCompare the AI-generated docstring with your manually written one.\n",
        "\n"
      ],
      "metadata": {
        "id": "6MR6ldcgZKe9"
      }
    },
    {
      "cell_type": "code",
      "source": [
        "def sum_even_odd(numbers):\n",
        "    \"\"\"Calculates the sum of even and odd numbers in a list.\n",
        "\n",
        "    This function iterates through a given list of numbers and computes the\n",
        "    total sum of all even numbers and the total sum of all odd numbers.\n",
        "\n",
        "    Args:\n",
        "        numbers (list): A list of integers.\n",
        "\n",
        "    Returns:\n",
        "        tuple: A tuple containing two integers: (sum_of_even, sum_of_odd).\n",
        "\n",
        "    Example:\n",
        "        >>> sum_even_odd([1, 2, 3, 4, 5, 6])\n",
        "        (12, 9)\n",
        "    \"\"\"\n",
        "\n",
        "    # --- AI-generated docstring for comparison ---\n",
        "    #\n",
        "    # This function takes a list of numbers as input and returns the sum of\n",
        "    # the even numbers and the sum of the odd numbers found in the list.\n",
        "    # The function initializes two variables to store the sums and then\n",
        "    # iterates through the list, adding each number to the appropriate sum\n",
        "    # based on whether it is even or odd. Finally, it returns both sums.\n",
        "    #\n",
        "    # @param numbers A list of integers to process.\n",
        "    # @returns A tuple containing the sum of even numbers and the sum of odd numbers.\n",
        "    #\n",
        "    # --- End of AI-generated docstring ---\n",
        "\n",
        "    sum_even = 0\n",
        "    sum_odd = 0\n",
        "\n",
        "    for num in numbers:\n",
        "        # Check if the number is even\n",
        "        if num % 2 == 0:\n",
        "            sum_even += num\n",
        "        # If not even, it's odd\n",
        "        else:\n",
        "            sum_odd += num\n",
        "\n",
        "    return (sum_even, sum_odd)\n",
        "\n",
        "# Example usage\n",
        "my_list = [10, 25, 30, 41, 55, 6, 78]\n",
        "even_sum, odd_sum = sum_even_odd(my_list)\n",
        "\n",
        "print(f\"The given list is: {my_list}\")\n",
        "print(f\"Sum of even numbers: {even_sum}\")\n",
        "print(f\"Sum of odd numbers: {odd_sum}\")"
      ],
      "metadata": {
        "colab": {
          "base_uri": "https://localhost:8080/"
        },
        "id": "BEnVpPisZL6s",
        "outputId": "5e898e3c-a392-4c67-c892-30f21065be55"
      },
      "execution_count": null,
      "outputs": [
        {
          "output_type": "stream",
          "name": "stdout",
          "text": [
            "The given list is: [10, 25, 30, 41, 55, 6, 78]\n",
            "Sum of even numbers: 124\n",
            "Sum of odd numbers: 121\n"
          ]
        }
      ]
    },
    {
      "cell_type": "markdown",
      "source": [
        "EXPLANATION:\n",
        "This code defines a Python function called sum_even_odd that takes a list of numbers as input.\n",
        "It initializes two variables, even_sum and odd_sum, to zero. It then iterates through each number in the input list.\n",
        " If a number is even (divisible by 2 with no remainder), it's added to even_sum; otherwise, it's added to odd_sum. Finally, the function returns a tuple containing the calculated even_sum and odd_sum.\n",
        "  The code also includes an example of how to use the function with a sample list and prints the results."
      ],
      "metadata": {
        "id": "gwe1DkGoa9DO"
      }
    },
    {
      "cell_type": "markdown",
      "source": [
        "TAST 2:\n",
        "•\tWrite python program for sru_student class with attributes like name, roll     no., hostel_status and fee_update method and display_details method.\n",
        "•\tWrite comments manually for each line/code block\n",
        "•\tAsk an AI tool to add inline comments explaining each line/step.\n",
        "•\tCompare the AI-generated comments with your manually written one.\n",
        "\n"
      ],
      "metadata": {
        "id": "ImDS8C4xbeVs"
      }
    },
    {
      "cell_type": "markdown",
      "source": [
        "PROMPT:\n",
        "•\tWrite python program for sru_student class with attributes like name, roll    no., hostel_status and fee_update method and display_details method.\n",
        "•\tWrite comments manually for each line/code block\n",
        "•\tAsk an AI tool to add inline comments explaining each line/step.\n",
        "•\tCompare the AI-generated comments with your manually written one.\n",
        "\n"
      ],
      "metadata": {
        "id": "wZp4t_ULbq0o"
      }
    },
    {
      "cell_type": "code",
      "source": [
        "class sru_student:\n",
        "    # Manual comment: Constructor to initialize student attributes\n",
        "    def __init__(self, name, roll_no, hostel_status):\n",
        "        self.name = name  # Manual comment: Student's name\n",
        "        self.roll_no = roll_no  # Manual comment: Student's roll number\n",
        "        self.hostel_status = hostel_status  # Manual comment: Student's hostel status (True/False)\n",
        "        self.fee_due = 0  # Manual comment: Student's outstanding fee, initialized to 0\n",
        "\n",
        "    # Manual comment: Method to update the student's fee due\n",
        "    def fee_update(self, amount):\n",
        "        self.fee_due += amount  # Manual comment: Add the given amount to the fee due\n",
        "\n",
        "    # Manual comment: Method to display the student's details\n",
        "    def display_details(self):\n",
        "        print(f\"Name: {self.name}\")  # Manual comment: Print the student's name\n",
        "        print(f\"Roll No: {self.roll_no}\")  # Manual comment: Print the student's roll number\n",
        "        print(f\"Hostel Status: {self.hostel_status}\")  # Manual comment: Print the student's hostel status\n",
        "        print(f\"Fee Due: {self.fee_due}\")  # Manual comment: Print the student's outstanding fee\n",
        "\n",
        "# Example usage:\n",
        "# Manual comment: Create an instance of the sru_student class\n",
        "student1 = sru_student(\"Alice\", \"101\", True)\n",
        "student2 = sru_student(\"Bob\", \"102\", False)\n",
        "\n",
        "# Manual comment: Update the fee for student1\n",
        "student1.fee_update(500)\n",
        "\n",
        "# Manual comment: Display details for both students\n",
        "student1.display_details()\n",
        "print(\"-\" * 20) # Manual comment: Separator for clarity\n",
        "student2.display_details()\n",
        "\n",
        "# AI-generated comments will be added here for comparison"
      ],
      "metadata": {
        "colab": {
          "base_uri": "https://localhost:8080/"
        },
        "id": "do-Roi6Nb5Oo",
        "outputId": "f2475fb3-b3de-4a19-dc4a-87793971f3af"
      },
      "execution_count": null,
      "outputs": [
        {
          "output_type": "stream",
          "name": "stdout",
          "text": [
            "Name: Alice\n",
            "Roll No: 101\n",
            "Hostel Status: True\n",
            "Fee Due: 500\n",
            "--------------------\n",
            "Name: Bob\n",
            "Roll No: 102\n",
            "Hostel Status: False\n",
            "Fee Due: 0\n"
          ]
        }
      ]
    },
    {
      "cell_type": "markdown",
      "source": [
        "EXPLANATION:This code defines a Python class named sru_student.\n",
        ". The __init__ method is the constructor. It takes the student's name, roll_no,   and hostel_status as input and initializes these attributes for each sru_student object. It also initializes fee_due to 0.\n",
        ". The fee_update method takes an amount and adds it to the student's fee_due.\n",
        " .The display_details method prints the student's name, roll_no, hostel_status,  and fee_due.\n",
        " .The example usage shows how to create two sru_student objects, update the fee for one of them, and then display the details of both students.\n"
      ],
      "metadata": {
        "id": "LHnk_6CqcErQ"
      }
    },
    {
      "cell_type": "markdown",
      "source": [
        "TASK 3:\n",
        "•\tWrite a Python script with 3–4 functions (e.g., calculator: add, subtract, multiply, divide).\n",
        "•\tIncorporate manual docstring in code with NumPy Style\n",
        "•\tUse AI assistance to generate a module-level docstring + individual function docstrings.\n",
        "•\tCompare the AI-generated docstring with your manually written one.\n",
        "\n"
      ],
      "metadata": {
        "id": "SnwDgWhicWaH"
      }
    },
    {
      "cell_type": "markdown",
      "source": [
        "PROMPT •\tWrite a Python script with 3–4 functions (e.g., calculator: add, subtract, multiply, divide).\n",
        "•\tIncorporate manual docstring in code with NumPy Style\n",
        "•\tUse AI assistance to generate a module-level docstring + individual function docstrings.\n",
        "•\tCompare the AI-generated docstring with your manually written one.\n",
        "\n"
      ],
      "metadata": {
        "id": "oLYutR6bcdKJ"
      }
    },
    {
      "cell_type": "code",
      "source": [
        "# Manual module-level docstring (NumPy Style)\n",
        "\"\"\"\n",
        "This module provides basic calculator functions.\n",
        "\n",
        "Functions\n",
        "---------\n",
        "add(a, b)\n",
        "    Adds two numbers.\n",
        "subtract(a, b)\n",
        "    Subtracts the second number from the first.\n",
        "multiply(a, b)\n",
        "    Multiplies two numbers.\n",
        "divide(a, b)\n",
        "    Divides the first number by the second.\n",
        "\"\"\"\n",
        "\n",
        "# AI-generated module-level docstring will be added here for comparison\n",
        "\n",
        "def add(a, b):\n",
        "    # Manual docstring (NumPy Style)\n",
        "    \"\"\"Adds two numbers.\n",
        "\n",
        "    Parameters\n",
        "    ----------\n",
        "    a : float\n",
        "        The first number.\n",
        "    b : float\n",
        "        The second number.\n",
        "\n",
        "    Returns\n",
        "    -------\n",
        "    float\n",
        "        The sum of a and b.\n",
        "    \"\"\"\n",
        "    # AI-generated docstring will be added here for comparison\n",
        "    return a + b\n",
        "\n",
        "def subtract(a, b):\n",
        "    # Manual docstring (NumPy Style)\n",
        "    \"\"\"Subtracts the second number from the first.\n",
        "\n",
        "    Parameters\n",
        "    ----------\n",
        "    a : float\n",
        "        The first number.\n",
        "    b : float\n",
        "        The second number.\n",
        "\n",
        "    Returns\n",
        "    -------\n",
        "    float\n",
        "        The difference between a and b.\n",
        "    \"\"\"\n",
        "    # AI-generated docstring will be added here for comparison\n",
        "    return a - b\n",
        "\n",
        "def multiply(a, b):\n",
        "    # Manual docstring (NumPy Style)\n",
        "    \"\"\"Multiplies two numbers.\n",
        "\n",
        "    Parameters\n",
        "    ----------\n",
        "    a : float\n",
        "        The first number.\n",
        "    b : float\n",
        "        The second number.\n",
        "\n",
        "    Returns\n",
        "    -------\n",
        "    float\n",
        "        The product of a and b.\n",
        "    \"\"\"\n",
        "    # AI-generated docstring will be added here for comparison\n",
        "    return a * b\n",
        "\n",
        "def divide(a, b):\n",
        "    # Manual docstring (NumPy Style)\n",
        "    \"\"\"Divides the first number by the second.\n",
        "\n",
        "    Parameters\n",
        "    ----------\n",
        "    a : float\n",
        "        The first number (dividend).\n",
        "    b : float\n",
        "        The second number (divisor).\n",
        "\n",
        "    Returns\n",
        "    -------\n",
        "    float\n",
        "        The result of the division.\n",
        "\n",
        "    Raises\n",
        "    ------\n",
        "    ValueError\n",
        "        If the divisor b is zero.\n",
        "    \"\"\"\n",
        "    # AI-generated docstring will be added here for comparison\n",
        "    if b == 0:\n",
        "        raise ValueError(\"Cannot divide by zero\")\n",
        "    return a / b\n",
        "\n",
        "# Example usage\n",
        "if __name__ == \"__main__\":\n",
        "    num1 = 10\n",
        "    num2 = 5\n",
        "    num3 = 0\n",
        "\n",
        "    print(f\"Adding {num1} and {num2}: {add(num1, num2)}\")\n",
        "    print(f\"Subtracting {num1} and {num2}: {subtract(num1, num2)}\")\n",
        "    print(f\"Multiplying {num1} and {num2}: {multiply(num1, num2)}\")\n",
        "    print(f\"Dividing {num1} by {num2}: {divide(num1, num2)}\")\n",
        "    print(f\"Dividing {num1} by {num3}: \", end=\"\")\n",
        "    try:\n",
        "        divide(num1, num3)\n",
        "    except ValueError as e:\n",
        "        print(e)"
      ],
      "metadata": {
        "colab": {
          "base_uri": "https://localhost:8080/"
        },
        "id": "YQ7pRCYsqr8G",
        "outputId": "6526a3cc-c9fd-4470-da66-8d29d6de55e5"
      },
      "execution_count": null,
      "outputs": [
        {
          "output_type": "stream",
          "name": "stdout",
          "text": [
            "Adding 10 and 5: 15\n",
            "Subtracting 10 and 5: 5\n",
            "Multiplying 10 and 5: 50\n",
            "Dividing 10 by 5: 2.0\n",
            "Dividing 10 by 0: Cannot divide by zero\n"
          ]
        }
      ]
    },
    {
      "cell_type": "markdown",
      "source": [
        "EXPLANATION : Write a Python script with 3–4 functions (e.g., calculator: add, subtract, multiply, divide). • Incorporate manual docstring in code with NumPy Style • Use AI assistance to generate a module-level docstring + individual function docstrings. • Compare the AI-generated docstring with your manually written one.\n",
        "Here's a breakdown:\n",
        "   . Module-level docstring: The triple-quoted string at the beginning is a module-level docstring that describes the purpose of the module (providing basic calculator functions) and lists the available function.\n",
        "   . add(a, b): This function takes two arguments, a and b, and returns their sum. It includes a NumPy-style docstring explaining its parameters and what it returns.\n",
        "   . Now subtract(a, b): This function takes two arguments, a and b, and returns the result of subtracting b from a. It also has a NumPy-style docstring.\n",
        "   . multiply(a, b): This function takes two arguments, a and b, and returns their product. It includes a NumPy-style docstring.\n",
        "   . divide(a, b): This function takes two arguments, a (dividend) and b (divisor), and returns the result of the division. It includes a NumPy-style docstring and also includes error handling to raise a ValueError if the divisor b is zero.\n",
        "   . if __name__ == \"__main__\": block: This block contains example usage of the functions. It demonstrates how to call each function with sample numbers and prints the results. The try...except block is used to handle the potential ValueError when attempting to divide by zero.\n",
        "   \n"
      ],
      "metadata": {
        "id": "RB9kK3X1sF_W"
      }
    }
  ]
}