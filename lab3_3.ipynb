{
  "nbformat": 4,
  "nbformat_minor": 0,
  "metadata": {
    "colab": {
      "provenance": [],
      "authorship_tag": "ABX9TyNpRFMEpDRO9lrtaWjjV5h1",
      "include_colab_link": true
    },
    "kernelspec": {
      "name": "python3",
      "display_name": "Python 3"
    },
    "language_info": {
      "name": "python"
    }
  },
  "cells": [
    {
      "cell_type": "markdown",
      "metadata": {
        "id": "view-in-github",
        "colab_type": "text"
      },
      "source": [
        "<a href=\"https://colab.research.google.com/github/shirisha1719/AIAC/blob/main/lab3_3.ipynb\" target=\"_parent\"><img src=\"https://colab.research.google.com/assets/colab-badge.svg\" alt=\"Open In Colab\"/></a>"
      ]
    },
    {
      "cell_type": "markdown",
      "source": [],
      "metadata": {
        "id": "f6XTlv0jQCal"
      }
    },
    {
      "cell_type": "markdown",
      "source": [
        "TASK 1:\n",
        "Try 3 different prompts to generate a tactorial function."
      ],
      "metadata": {
        "id": "0i0a5q8KQDZ0"
      }
    },
    {
      "cell_type": "code",
      "source": [],
      "metadata": {
        "id": "G3Uc5ycQQd_n"
      },
      "execution_count": null,
      "outputs": []
    },
    {
      "cell_type": "code",
      "metadata": {
        "id": "b524425b"
      },
      "source": [
        "# Prompt 1: Simple prompt\n",
        "# Write a Python function to calculate the factorial of a number.\n",
        "\n",
        "def factorial_simple(n):\n",
        "    if n == 0:\n",
        "        return 1\n",
        "    else:\n",
        "        return n * factorial_simple(n-1)\n",
        "\n",
        "print(f\"Factorial of 5 (simple): {factorial_simple(5)}\")"
      ],
      "execution_count": null,
      "outputs": []
    },
    {
      "cell_type": "code",
      "metadata": {
        "colab": {
          "base_uri": "https://localhost:8080/"
        },
        "id": "ee2b554a",
        "outputId": "410496ad-725b-40da-af0a-2574dadb544d"
      },
      "source": [
        "# Prompt 2: Prompt specifying iterative approach\n",
        "# Generate a Python function to compute the factorial of an integer using an iterative approach.\n",
        "\n",
        "def factorial_iterative(n):\n",
        "    if n < 0:\n",
        "        return \"Factorial is not defined for negative numbers\"\n",
        "    elif n == 0:\n",
        "        return 1\n",
        "    else:\n",
        "        result = 1\n",
        "        for i in range(1, n + 1):\n",
        "            result *= i\n",
        "        return result\n",
        "\n",
        "print(f\"Factorial of 5 (iterative): {factorial_iterative(5)}\")"
      ],
      "execution_count": null,
      "outputs": [
        {
          "output_type": "stream",
          "name": "stdout",
          "text": [
            "Factorial of 5 (iterative): 120\n"
          ]
        }
      ]
    },
    {
      "cell_type": "code",
      "metadata": {
        "colab": {
          "base_uri": "https://localhost:8080/"
        },
        "id": "cf94b111",
        "outputId": "f358e70f-d3e0-4ab0-8704-9804dd510ca4"
      },
      "source": [
        "# Prompt 3: Prompt specifying recursive approach and handling edge cases\n",
        "# Create a Python function that calculates the factorial of a non-negative integer recursively. Handle the base case for 0 and return an error message for negative inputs.\n",
        "\n",
        "def factorial_recursive(n):\n",
        "    if n < 0:\n",
        "        return \"Factorial is not defined for negative numbers\"\n",
        "    elif n == 0:\n",
        "        return 1\n",
        "    else:\n",
        "        return n * factorial_recursive(n-1)\n",
        "\n",
        "print(f\"Factorial of 5 (recursive): {factorial_recursive(5)}\")\n",
        "print(f\"Factorial of -1 (recursive): {factorial_recursive(-1)}\")"
      ],
      "execution_count": null,
      "outputs": [
        {
          "output_type": "stream",
          "name": "stdout",
          "text": [
            "Factorial of 5 (recursive): 120\n",
            "Factorial of -1 (recursive): Factorial is not defined for negative numbers\n"
          ]
        }
      ]
    },
    {
      "cell_type": "markdown",
      "source": [
        "EXPLANATION:"
      ],
      "metadata": {
        "id": "9BcIh0LYRCsf"
      }
    },
    {
      "cell_type": "markdown",
      "source": [
        "Take the function name as def factorial_iterative(n):: This line defines the function factorial_iterative that takes one argument, n.\n",
        ". if n < 0:: This checks if the input number n is negative. Factorials are not defined for negative numbers.\n",
        ".return \"Factorial is not defined for negative numbers\": If n is negative, the function returns an error message.\n",
        ".elif n == 0:: This checks if the input number n is 0. The factorial of 0 is defined as 1.\n",
        ".return 1: If n is 0, the function returns 1.\n",
        ".for i in range(1, n + 1):: This starts a for loop that iterates from 1 up to and including n.\n",
        ".result *= i: In each iteration, the current value of result is multiplied by the loop variable i. This performs the cumulative multiplication needed for the factorial calculation (e.g., 1 * 2 * 3 * ... *\n",
        ".return result: After the loop finishes, the function returns the final calculated result, which is the factorial of n.\n",
        ".give a print(f\"Factorial of 5 (iterative): {factorial_iterative(5)}\"): This line calls the factorial_iterative function with the input 5 and prints the returned value, along with a descriptive label.\n"
      ],
      "metadata": {
        "id": "j-skpTLxUPFQ"
      }
    },
    {
      "cell_type": "markdown",
      "source": [
        "EXPLANATION : PROMPT 3\n",
        ". Give a function name def factorial_recursive(n):: This line defines the function factorial_recursive that takes one argument, n.\n",
        ". if n < 0:: This checks if the input number n is negative. Factorials are not defined for negative numbers.\n",
        ". return \"Factorial is not defined for negative numbers\": If n is negative, the function returns an error message.\n",
        ". elif n == 0:: This checks if the input number n is 0. This is the base case for the recursion. The factorial of 0 is defined as 1.\n",
        "return 1: If n is 0, the function returns 1, stopping the recursion.\n",
        ". else:: This block is executed if n is a positive integer.\n",
        ". return n * factorial_recursive(n-1): This is the recursive step. The function . returns the product of n and the result of calling itself with n-1. This continues until the base case (n == 0) is reached.\n",
        ". print(f\"Factorial of 5 (recursive): {factorial_recursive(5)}\"): This line calls the factorial_recursive function with the input 5 and prints the returned value, along with a descriptive label.\n",
        ". Add print(f\"Factorial of -1 (recursive): {factorial_recursive(-1)}\"): This line calls the factorial_recursive function with the input -1 to demonstrate the handling of negative inputs and prints the returned message.\n"
      ],
      "metadata": {
        "id": "j8XcLDwfWtXa"
      }
    },
    {
      "cell_type": "markdown",
      "source": [
        "TASK 2:\n",
        "Provide a clear explanation unput-output prompt to generate a shorting function."
      ],
      "metadata": {
        "id": "8roYvYNPXlyh"
      }
    },
    {
      "cell_type": "code",
      "source": [],
      "metadata": {
        "id": "PO-e6pOZYIsJ"
      },
      "execution_count": null,
      "outputs": []
    },
    {
      "cell_type": "markdown",
      "source": [],
      "metadata": {
        "id": "57uOTexeXlhS"
      }
    },
    {
      "cell_type": "markdown",
      "metadata": {
        "id": "607d4b0f"
      },
      "source": [
        "**Input-Output Prompt:**\n",
        "\n",
        "Generate a Python function called `sort_list` that takes a list of numbers as input and returns a new list with the numbers sorted in ascending order.\n",
        "\n",
        "Input:\n",
        "`[3, 1, 4, 1, 5, 9, 2, 6]`\n",
        "\n",
        "Output:\n",
        "`[1, 1, 2, 3, 4, 5, 6, 9]`"
      ]
    },
    {
      "cell_type": "code",
      "metadata": {
        "colab": {
          "base_uri": "https://localhost:8080/"
        },
        "id": "d0ca5700",
        "outputId": "d7fc4753-fcd2-439d-98ae-c2aa5d5c7f94"
      },
      "source": [
        "def sort_list(numbers):\n",
        "  \"\"\"\n",
        "  Sorts a list of numbers in ascending order.\n",
        "\n",
        "  Args:\n",
        "    numbers: A list of numbers.\n",
        "\n",
        "  Returns:\n",
        "    A new list with the numbers sorted in ascending order.\n",
        "  \"\"\"\n",
        "  return sorted(numbers)\n",
        "\n",
        "# Example usage based on the prompt\n",
        "input_list = [3, 1, 4, 1, 5, 9, 2, 6]\n",
        "output_list = sort_list(input_list)\n",
        "print(f\"Input: {input_list}\")\n",
        "print(f\"Output: {output_list}\")"
      ],
      "execution_count": null,
      "outputs": [
        {
          "output_type": "stream",
          "name": "stdout",
          "text": [
            "Input: [3, 1, 4, 1, 5, 9, 2, 6]\n",
            "Output: [1, 1, 2, 3, 4, 5, 6, 9]\n"
          ]
        }
      ]
    },
    {
      "cell_type": "markdown",
      "source": [
        "EXPLANATION:\n",
        ". give a function name def sort_list(numbers):: This line defines a function named sort_list that takes one argument, numbers, which is expected to be a list.\n",
        ".\"\"\" ... \"\"\": This is a docstring, which explains what the function does, its arguments (Args), and what it returns (Returns).\n",
        ". Add return sorted(numbers): This is the core of the function. The built-in Python function sorted() takes an iterable (like a list) as input and returns a new list containing all items from the iterable in ascending order.\n",
        ".insert the input_list = [3, 1, 4, 1, 5, 9, 2, 6]: This line creates a list named input_list with some unsorted numbers.\n",
        ".output_list = sort_list(input_list): This line calls the sort_list function with input_list as the argument and stores the returned sorted list in a new variable called output_list.\n",
        ".print(f\"Input: {input_list}\"): This line prints the original input_list.\n",
        "p.rint(f\"Output: {output_list}\"): This line prints the output_list, which contains the sorted numbers.\n"
      ],
      "metadata": {
        "id": "P1ZJq8q0YgyZ"
      }
    },
    {
      "cell_type": "markdown",
      "source": [
        "TASK 3:Start with the vague prompt “Generate python code to calculate power bill” and improve it step-by-step"
      ],
      "metadata": {
        "id": "RB98H5CGZsWg"
      }
    },
    {
      "cell_type": "markdown",
      "metadata": {
        "id": "3d2f1ea9"
      },
      "source": [
        "**Reasoning**:\n",
        "Write the initial vague prompt in a markdown cell as instructed.\n",
        "\n"
      ]
    },
    {
      "cell_type": "code",
      "metadata": {
        "colab": {
          "base_uri": "https://localhost:8080/",
          "height": 46
        },
        "id": "a71a67e3",
        "outputId": "1845b91d-7c46-4832-917c-6bef1104b957"
      },
      "source": [
        "%%markdown\n",
        "Generate python code to calculate power bill"
      ],
      "execution_count": null,
      "outputs": [
        {
          "output_type": "display_data",
          "data": {
            "text/plain": [
              "<IPython.core.display.Markdown object>"
            ],
            "text/markdown": "Generate python code to calculate power bill\n"
          },
          "metadata": {}
        }
      ]
    },
    {
      "cell_type": "markdown",
      "metadata": {
        "id": "53809c97"
      },
      "source": [
        "**Reasoning**:\n",
        "Use the vague prompt to generate the initial Python code for calculating a power bill in a new code cell.\n",
        "\n"
      ]
    },
    {
      "cell_type": "code",
      "metadata": {
        "colab": {
          "base_uri": "https://localhost:8080/"
        },
        "id": "007c26e3",
        "outputId": "8a571afa-101a-4a0b-e7f6-e215cf2645f5"
      },
      "source": [
        "# Generate python code to calculate power bill\n",
        "\n",
        "def calculate_power_bill(kwh_consumed):\n",
        "  \"\"\"Calculates a basic power bill based on kWh consumed.\"\"\"\n",
        "  rate_per_kwh = 0.15  # Example rate\n",
        "  bill_amount = kwh_consumed * rate_per_kwh\n",
        "  return bill_amount\n",
        "\n",
        "# Example usage\n",
        "monthly_kwh = 800\n",
        "bill = calculate_power_bill(monthly_kwh)\n",
        "print(f\"Monthly power bill: ${bill:.2f}\")"
      ],
      "execution_count": null,
      "outputs": [
        {
          "output_type": "stream",
          "name": "stdout",
          "text": [
            "Monthly power bill: $120.00\n"
          ]
        }
      ]
    },
    {
      "cell_type": "markdown",
      "metadata": {
        "id": "c9f0cfc1"
      },
      "source": [
        "**Reasoning**:\n",
        "Review the generated code and identify the missing information and ambiguities in the initial prompt by examining the code's inputs, assumptions, and limitations.\n",
        "\n"
      ]
    },
    {
      "cell_type": "markdown",
      "source": [],
      "metadata": {
        "id": "RNd_GN7kct2t"
      }
    },
    {
      "cell_type": "markdown",
      "source": [],
      "metadata": {
        "id": "T9SZtnYDOhXt"
      }
    },
    {
      "cell_type": "markdown",
      "source": [
        "EXPLANATION:\n",
        ".Here we can name the function as def calculate_power_bill(kwh_consumed):: This line defines a function named calculate_power_bill that takes one argument, kwh_consumed, which represents the amount of electricity used in kilowatt-hours.\n",
        ". we have to calculate\"\"\"Calculates a basic power bill based on kWh consumed.\"\"\": This is a docstring, which explains what the function does.\n",
        ". We can give the amount as our wish rate_per_kwh = 0.15: This line sets a variable rate_per_kwh to 0.15. This is an example rate for electricity per kWh.\n",
        ". By using the formula we can do nill amount as bill_amount = kwh_consumed * rate_per_kwh: This line calculates the bill amount by multiplying the kwh_consumed by the rate_per_kwh.\n",
        "return bill_amount: The function returns the calculated bill_amount.\n",
        ". monthly_kwh = 800: This line sets a variable monthly_kwh to 800, representing an example of monthly electricity consumption.\n",
        "bill = calculate_power_bill(monthly_kwh): This line calls the calculate_power_bill function with monthly_kwh as the argument and stores the returned bill amount in a variable named bill.\n",
        ".Finally we can se the final  bill as using print functionprint(f\"Monthly power bill: ${bill:.2f}\"): This line prints the calculated bill amount, formatted to two decimal places using an f-string.\n"
      ],
      "metadata": {
        "id": "CMa1KzEANOCe"
      }
    },
    {
      "cell_type": "markdown",
      "source": [
        "TASK 4:\n",
        "•\tWrite structured comments to help AI generate two linked functions (e.g., login_user() and register_user())."
      ],
      "metadata": {
        "id": "-9rV3_jiOjtx"
      }
    },
    {
      "cell_type": "code",
      "metadata": {
        "colab": {
          "base_uri": "https://localhost:8080/"
        },
        "id": "46b07c97",
        "outputId": "243347fe-c90f-4cea-b210-2c9486efd93f"
      },
      "source": [
        "def register_user(username, password):\n",
        "  \"\"\"\n",
        "  Registers a new user.\n",
        "\n",
        "  Args:\n",
        "    username: The username for the new user.\n",
        "    password: The password for the new user.\n",
        "\n",
        "  Returns:\n",
        "    A message indicating the registration status.\n",
        "  \"\"\"\n",
        "  if username in user_data:\n",
        "    return \"Registration failed: Username already exists.\"\n",
        "  else:\n",
        "    # In a real application, you would hash the password before storing it.\n",
        "    user_data[username] = password\n",
        "    return f\"Registration successful for user: {username}\"\n",
        "\n",
        "def login_user(username, password):\n",
        "  \"\"\"\n",
        "  Logs in an existing user.\n",
        "\n",
        "  Args:\n",
        "    username: The username of the user.\n",
        "    password: The password of the user.\n",
        "\n",
        "  Returns:\n",
        "    A message indicating the login status.\n",
        "  \"\"\"\n",
        "  if username not in user_data:\n",
        "    return \"Login failed: Username not found.\"\n",
        "  else:\n",
        "    # In a real application, you would compare the provided password with the hashed password.\n",
        "    if user_data[username] == password:\n",
        "      return f\"Login successful for user: {username}\"\n",
        "    else:\n",
        "      return \"Login failed: Incorrect password.\"\n",
        "\n",
        "# Example usage:\n",
        "print(register_user(\"testuser\", \"testpassword\"))\n",
        "print(login_user(\"testuser\", \"testpassword\"))\n",
        "print(login_user(\"testuser\", \"wrongpassword\"))\n",
        "print(login_user(\"nonexistentuser\", \"somepassword\"))"
      ],
      "execution_count": 3,
      "outputs": [
        {
          "output_type": "stream",
          "name": "stdout",
          "text": [
            "Registration successful for user: testuser\n",
            "Login successful for user: testuser\n",
            "Login failed: Incorrect password.\n",
            "Login failed: Username not found.\n"
          ]
        }
      ]
    },
    {
      "cell_type": "markdown",
      "source": [
        "EXPANATION:ertainly! The selected code cell contains two Python functions, register_user and login_user, which are designed to handle basic user registration and login functionality.\n",
        "\n",
        "Here's a breakdown of each function:\n",
        "\n",
        "register_user(username, password)\n",
        "\n",
        "This function is used to create a new user account.\n",
        "It takes a username and password as input.\n",
        "It checks if the provided username already exists in the user_data dictionary.\n",
        "If the username exists, it returns a \"Registration failed\" message.\n",
        "If the username does not exist, it adds the new user's username and password to the user_data dictionary and returns a \"Registration successful\" message.\n",
        "Important Note: In a real-world application, passwords should never be stored in plain text like this. They should always be securely hashed before storage.\n",
        "login_user(username, password)\n",
        "\n",
        "This function is used to authenticate an existing user.\n",
        "It takes a username and password as input.\n",
        "It first checks if the provided username exists in the user_data dictionary.\n",
        "If the username is not found, it returns a \"Login failed: Username not found\" message.\n",
        "If the username is found, it then compares the provided password with the password stored in user_data for that username.\n",
        "If the passwords match, it returns a \"Login successful\" message.\n",
        "If the passwords do not match, it returns a \"Login failed: Incorrect password\" message.\n",
        "Important Note: Similar to registration, password comparison in a real application should involve comparing the provided password with the stored hashed password."
      ],
      "metadata": {
        "id": "dGy_i-JwQBwa"
      }
    },
    {
      "cell_type": "markdown",
      "source": [
        "TASK 5:\n",
        "•\tAnalyzing Prompt Specificity: Improving Temperature Conversion Function with Clear Instructions"
      ],
      "metadata": {
        "id": "j13TCVqcQNXz"
      }
    },
    {
      "cell_type": "code",
      "source": [
        "def convert_temperature(value, unit):\n",
        "  \"\"\"\n",
        "  Converts temperature between Celsius and Fahrenheit.\n",
        "\n",
        "  Args:\n",
        "    value: The temperature value to convert.\n",
        "    unit: The current unit of the temperature ('C' or 'F').\n",
        "\n",
        "  Returns:\n",
        "    A tuple containing the converted temperature value and its unit,\n",
        "    or an error message string if the unit is invalid.\n",
        "  \"\"\"\n",
        "  if unit.upper() == 'C':\n",
        "    # Convert Celsius to Fahrenheit\n",
        "    fahrenheit = (value * 9/5) + 32\n",
        "    return (fahrenheit, 'F')\n",
        "  elif unit.upper() == 'F':\n",
        "    # Convert Fahrenheit to Celsius\n",
        "    celsius = (value - 32) * 5/9\n",
        "    return (celsius, 'C')\n",
        "  else:\n",
        "    return \"Invalid unit. Use 'C' or 'F'.\"\n",
        "\n",
        "# Example usage based on the instructions\n",
        "print(convert_temperature(25, 'C'))\n",
        "print(convert_temperature(68, 'F'))\n",
        "print(convert_temperature(100, 'K'))\n",
        "print(convert_temperature(0, 'C'))\n",
        "print(convert_temperature(32, 'F'))"
      ],
      "metadata": {
        "id": "zwgondGXQsnx"
      },
      "execution_count": null,
      "outputs": []
    },
    {
      "cell_type": "code",
      "source": [
        "EXPLANATION:Certainly! The selected code cell contains a Python function called convert_temperature that converts temperature values between Celsius and Fahrenheit.\n",
        "\n",
        "Here's a breakdown of the function:\n",
        "\n",
        "def convert_temperature(value, unit):: This line defines the function convert_temperature which takes two arguments: value (the temperature reading) and unit (the current unit, 'C' for Celsius or 'F' for Fahrenheit).\n",
        "\"\"\" ... \"\"\": This is a docstring that explains the function's purpose, arguments, and what it returns.\n",
        "if unit.upper() == 'C':: This checks if the input unit, converted to uppercase, is 'C'.\n",
        "fahrenheit = (value * 9/5) + 32: If the unit is 'C', this line converts the Celsius value to Fahrenheit using the standard formula.\n",
        "return (fahrenheit, 'F'): It then returns a tuple containing the calculated Fahrenheit value and the unit 'F'.\n",
        "elif unit.upper() == 'F':: If the unit is not 'C', this checks if the uppercase unit is 'F'.\n",
        "celsius = (value - 32) * 5/9: If the unit is 'F', this line converts the Fahrenheit value to Celsius using the standard formula.\n",
        "return (celsius, 'C'): It then returns a tuple containing the calculated Celsius value and the unit 'C'.\n",
        "else:: If the unit is neither 'C' nor 'F'.\n",
        "return \"Invalid unit. Use 'C' or 'F'.\": It returns an error message indicating that the unit is invalid.\n",
        "The lines after the function definition are examples of how to call the function with different inputs and print the results.\n",
        "\n"
      ],
      "metadata": {
        "id": "8MViPcOmQYyB"
      },
      "execution_count": null,
      "outputs": []
    },
    {
      "cell_type": "code",
      "source": [],
      "metadata": {
        "id": "_Z5Fn6OiQvgA"
      },
      "execution_count": null,
      "outputs": []
    }
  ]
}