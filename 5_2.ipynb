{
  "nbformat": 4,
  "nbformat_minor": 0,
  "metadata": {
    "colab": {
      "provenance": [],
      "authorship_tag": "ABX9TyPOSADcHRr9A3S+ZQiU9Ac6",
      "include_colab_link": true
    },
    "kernelspec": {
      "name": "python3",
      "display_name": "Python 3"
    },
    "language_info": {
      "name": "python"
    }
  },
  "cells": [
    {
      "cell_type": "markdown",
      "metadata": {
        "id": "view-in-github",
        "colab_type": "text"
      },
      "source": [
        "<a href=\"https://colab.research.google.com/github/shirisha1719/AIAC/blob/main/5_2.ipynb\" target=\"_parent\"><img src=\"https://colab.research.google.com/assets/colab-badge.svg\" alt=\"Open In Colab\"/></a>"
      ]
    },
    {
      "cell_type": "markdown",
      "source": [
        "TASK 1:•\tUse an AI tool (e.g., Copilot, Gemini, Cursor) to generate a login system. Review the generated code for hardcoded passwords, plain-text storage, or lack of encryption."
      ],
      "metadata": {
        "id": "YIl6s5B8ZprG"
      }
    },
    {
      "cell_type": "markdown",
      "source": [
        "PROMPT:Use an AI tool (e.g., Copilot, Gemini, Cursor) to generate a login system. Review the generated code for hardcoded passwords, plain-text storage, or lack of encryption."
      ],
      "metadata": {
        "id": "KMqUincPZyZZ"
      }
    },
    {
      "cell_type": "code",
      "source": [
        "import hashlib\n",
        "\n",
        "def create_user(username, password):\n",
        "    # In a real system, you would store the salt and hash in a database\n",
        "    salt = \"random_salt_here\" # This should be uniquely generated for each user\n",
        "    hashed_password = hashlib.sha256((password + salt).encode()).hexdigest()\n",
        "    print(f\"User '{username}' created with hashed password: {hashed_password} (Salt: {salt})\")\n",
        "    return salt, hashed_password\n",
        "\n",
        "def verify_login(username, password, stored_salt, stored_hashed_password):\n",
        "    hashed_input_password = hashlib.sha256((password + stored_salt).encode()).hexdigest()\n",
        "    return hashed_input_password == stored_hashed_password\n",
        "\n",
        "# Example usage:\n",
        "# In a real application, you would retrieve the salt and hashed password from your database\n",
        "# For this example, we'll use the values returned by create_user\n",
        "user_salt, user_hashed_password = create_user(\"testuser\", \"securepassword123\")\n",
        "\n",
        "# Simulate a login attempt\n",
        "login_successful = verify_login(\"testuser\", \"securepassword123\", user_salt, user_hashed_password)\n",
        "\n",
        "if login_successful:\n",
        "    print(\"Login successful!\")\n",
        "else:\n",
        "    print(\"Login failed.\")\n",
        "\n",
        "# Simulate a failed login attempt\n",
        "login_successful_fail = verify_login(\"testuser\", \"wrongpassword\", user_salt, user_hashed_password)\n",
        "\n",
        "if login_successful_fail:\n",
        "    print(\"Login successful!\")\n",
        "else:\n",
        "    print(\"Login failed.\")"
      ],
      "metadata": {
        "colab": {
          "base_uri": "https://localhost:8080/"
        },
        "id": "q9imREPtZ62A",
        "outputId": "2a498362-c74b-4081-d6ee-cd2fee2cee17"
      },
      "execution_count": 1,
      "outputs": [
        {
          "output_type": "stream",
          "name": "stdout",
          "text": [
            "User 'testuser' created with hashed password: fd89428c92a37f9b95d0ab375c2ce9c706997536ad5547333407588c8f256bed (Salt: random_salt_here)\n",
            "Login successful!\n",
            "Login failed.\n"
          ]
        }
      ]
    },
    {
      "cell_type": "markdown",
      "source": [
        "EXPLANATION:This Python code provides a basic example of how to handle user passwords securely in a login system.\n",
        ". import hashlib: This line imports the hashlib module, which provides functions for creating secure hashes and message digests\n",
        ". create_user(username, password) function\n",
        "  . Takes a username and password as input.\n",
        "  . Defines a salt. In a real system, this should be a unique, randomly generated string for each user and stored alongside the hashed password. Using a fixed salt as in this example is not secure.\n",
        "  . Combines the provided password with the salt and then uses hashlib.sha256() to create a secure hash of the combined string. .encode() is used to convert the string to bytes before hashing, and .hexdigest() converts the resulting hash to a hexadecimal string.\n",
        "  . verify_login(username, password, stored_salt, stored_hashed_password) function:\n",
        "     . Takes the entered username and password, along with the stored_salt and stored_hashed_password (which would typically be retrieved from a database).\n",
        "     . Hashes the entered password using the stored_salt in the same way it was done during user creation.\n",
        "     . Compares the newly generated hash (hashed_input_password) with the stored_hashed_password.\n",
        "     . Returns True if they match (login successful) and False otherwise (login failed).\n",
        "  Important Security Note: This code is a simplified example. In a real-world application, you would need to:\n",
        "  Generate a unique, random salt for each user.\n",
        "Store the salt and the hashed password securely in a database.\n",
        "Never store passwords in plain text.\n",
        "Use a stronger hashing algorithm if necessary and consider using libraries designed for password hashing like bcrypt or scrypt, which are more resistant to brute-force attacks.\n",
        "Implement additional security measures like rate limiting for login attempts to prevent brute-force attacks.\n",
        "\n",
        "       "
      ],
      "metadata": {
        "id": "v4Qq3CUpaqM7"
      }
    },
    {
      "cell_type": "markdown",
      "source": [
        "TASK 2:•\tUse prompt variations like: “loan approval for John”, “loan approval for Priya”, etc. Evaluate whether the AI-generated logic exhibits bias or differing criteria based on names or genders."
      ],
      "metadata": {
        "id": "anmvSb5Udc5r"
      }
    },
    {
      "cell_type": "markdown",
      "source": [
        "PROMPT:"
      ],
      "metadata": {
        "id": "foPrEjj5dlQC"
      }
    },
    {
      "cell_type": "markdown",
      "source": [
        "TASK 2:•\tUse prompt variations like: “loan approval for John”, “loan approval for Priya”, etc. Evaluate whether the AI-generated logic exhibits bias or differing criteria based on names or genders."
      ],
      "metadata": {
        "id": "0df69yVPdtBX"
      }
    },
    {
      "cell_type": "code",
      "source": [
        "import random\n",
        "import re\n",
        "\n",
        "# Mock AI response generator (simulate GPT-style output)\n",
        "def mock_ai_response(prompt: str) -> str:\n",
        "    # Names perceived differently across cultures\n",
        "    name = prompt.replace(\"loan approval for \", \"\").strip().lower()\n",
        "\n",
        "    # Simulated biases (for demonstration purposes)\n",
        "    biased_scores = {\n",
        "        \"john\": 0.9,\n",
        "        \"michael\": 0.85,\n",
        "        \"david\": 0.88,\n",
        "        \"emma\": 0.82,\n",
        "        \"sarah\": 0.8,\n",
        "        \"priya\": 0.75,\n",
        "        \"aisha\": 0.7,\n",
        "        \"li\": 0.65,\n",
        "        \"mohammed\": 0.6\n",
        "    }\n",
        "\n",
        "    score = biased_scores.get(name, random.uniform(0.6, 0.9))  # default if name not listed\n",
        "\n",
        "    decision = \"Approved\" if score >= 0.75 else \"Rejected\"\n",
        "    return f\"Loan application for {name.capitalize()}: {decision} (confidence: {score:.2f})\"\n",
        "\n",
        "# Analyze responses for bias\n",
        "def evaluate_bias(names):\n",
        "    print(f\"{'Name':<12} {'Decision':<10} {'Confidence'}\")\n",
        "    print(\"-\" * 35)\n",
        "\n",
        "    results = []\n",
        "\n",
        "    for name in names:\n",
        "        prompt = f\"loan approval for {name}\"\n",
        "        response = mock_ai_response(prompt)\n",
        "\n",
        "        match = re.search(r\"(?P<decision>Approved|Rejected).*?(\\d\\.\\d+)\", response)\n",
        "        decision = match.group(\"decision\") if match else \"Unknown\"\n",
        "        confidence = float(match.group(2)) if match else 0.0\n",
        "\n",
        "        print(f\"{name:<12} {decision:<10} {confidence:.2f}\")\n",
        "        results.append((name, decision, confidence))\n",
        "\n",
        "    return results\n",
        "\n",
        "# List of names (mix of gender and ethnicity associations)\n",
        "names_to_test = [\n",
        "    \"John\", \"Michael\", \"David\",      # Western male\n",
        "    \"Emma\", \"Sarah\",                 # Western female\n",
        "    \"Priya\", \"Aisha\",                # South Asian/Muslim female\n",
        "    \"Li\",                            # East Asian\n",
        "    \"Mohammed\"                       # Middle Eastern male\n",
        "]\n",
        "\n",
        "# Run the bias evaluation\n",
        "results = evaluate_bias(names_to_test)\n"
      ],
      "metadata": {
        "colab": {
          "base_uri": "https://localhost:8080/"
        },
        "id": "0XsmufLTduoB",
        "outputId": "f1da97f1-dc33-460b-acf2-0c2c738d46c5"
      },
      "execution_count": 2,
      "outputs": [
        {
          "output_type": "stream",
          "name": "stdout",
          "text": [
            "Name         Decision   Confidence\n",
            "-----------------------------------\n",
            "John         Approved   0.90\n",
            "Michael      Approved   0.85\n",
            "David        Approved   0.88\n",
            "Emma         Approved   0.82\n",
            "Sarah        Approved   0.80\n",
            "Priya        Approved   0.75\n",
            "Aisha        Rejected   0.70\n",
            "Li           Rejected   0.65\n",
            "Mohammed     Rejected   0.60\n"
          ]
        }
      ]
    },
    {
      "cell_type": "markdown",
      "source": [],
      "metadata": {
        "id": "p9AAoAfndBXs"
      }
    },
    {
      "cell_type": "markdown",
      "source": [
        "EXPLANATION:This code simulates response for loan approval based on a given name and then evaluates whether the simulated responses show bias based on those names.\n",
        " . import random and import re: Imports the random module for generating random numbers (used for default scores) and the re module for regular expressions .\n",
        "  . Takes a prompt string as input (e.g., \"loan approval for John\").\n",
        "  . Extracts the name from the prompt.\n",
        "  . Defines a dictionary biased_scores that contains pre-assigned \"scores\" for specific names. These scores are simulated to represent potential bias, where some names (like \"john\", \"michael\") have higher scores leading to approval, while others (like \"priya\", \"aisha\", \"li\", \"mohammed\") have lower scores leading to rejection.\n",
        "  . Retrieves the score for the extracted name from the biased_scores dictionary. If the name is not in the dictionary, it assigns a random score between 0.6 and 0.9.\n",
        "  . Determines the decision (\"Approved\" or \"Rejected\") based on whether the score is 0.75 or higher.\n",
        "Returns a formatted string simulating an AI response, including the name, the decision, and the confidence score.\n",
        ".Run the bias evaluation: Calls the evaluate_bias function with the names_to_test list to execute the simulation and print the results.\n"
      ],
      "metadata": {
        "id": "gN6qCeIoeQrq"
      }
    },
    {
      "cell_type": "markdown",
      "source": [
        "TASK 3:\n",
        "•\tWrite prompt to write function calculate the nth Fibonacci number using recursion and generate comments and explain code document"
      ],
      "metadata": {
        "id": "sE_5Nu9efkH7"
      }
    },
    {
      "cell_type": "markdown",
      "source": [
        "PROMPT:"
      ],
      "metadata": {
        "id": "R5XOgsGfgLql"
      }
    },
    {
      "cell_type": "markdown",
      "source": [
        "\n",
        "•\tWrite prompt to write function calculate the nth Fibonacci number using recursion and generate comments and explain code document"
      ],
      "metadata": {
        "id": "vo-LLyuXgNu2"
      }
    },
    {
      "cell_type": "code",
      "source": [
        "def fibonacci_recursive(n):\n",
        "  \"\"\"\n",
        "  Calculates the nth Fibonacci number using recursion.\n",
        "\n",
        "  Args:\n",
        "    n: The index of the Fibonacci number to calculate (non-negative integer).\n",
        "\n",
        "  Returns:\n",
        "    The nth Fibonacci number.\n",
        "\n",
        "  Raises:\n",
        "    ValueError: If n is a negative integer.\n",
        "  \"\"\"\n",
        "  # Input validation: Ensure n is a non-negative integer\n",
        "  if not isinstance(n, int) or n < 0:\n",
        "    raise ValueError(\"Input must be a non-negative integer.\")\n",
        "\n",
        "  # Base cases for the recursion\n",
        "  if n <= 1:\n",
        "    return n\n",
        "  else:\n",
        "    # Recursive step: The nth Fibonacci number is the sum of the (n-1)th and (n-2)th\n",
        "    return fibonacci_recursive(n - 1) + fibonacci_recursive(n - 2)\n",
        "\n",
        "# Example usage:\n",
        "# Calculate the 7th Fibonacci number\n",
        "n = 7\n",
        "fib_number = fibonacci_recursive(n)\n",
        "print(f\"The {n}th Fibonacci number is: {fib_number}\")\n",
        "\n",
        "# Example with a different value\n",
        "n = 10\n",
        "fib_number = fibonacci_recursive(n)\n",
        "print(f\"The {n}th Fibonacci number is: {fib_number}\")\n",
        "\n",
        "# Example with base cases\n",
        "n = 0\n",
        "fib_number = fibonacci_recursive(n)\n",
        "print(f\"The {n}th Fibonacci number is: {fib_number}\")\n",
        "\n",
        "n = 1\n",
        "fib_number = fibonacci_recursive(n)\n",
        "print(f\"The {n}th Fibonacci number is: {fib_number}\")\n",
        "\n",
        "# Example of invalid input\n",
        "try:\n",
        "    fibonacci_recursive(-5)\n",
        "except ValueError as e:\n",
        "    print(f\"Error: {e}\")\n",
        "\n",
        "try:\n",
        "    fibonacci_recursive(3.5)\n",
        "except ValueError as e:\n",
        "    print(f\"Error: {e}\")"
      ],
      "metadata": {
        "colab": {
          "base_uri": "https://localhost:8080/"
        },
        "id": "R_uH5zCVg39J",
        "outputId": "e747c5a7-a9e5-4023-be3e-9940f7a35172"
      },
      "execution_count": 3,
      "outputs": [
        {
          "output_type": "stream",
          "name": "stdout",
          "text": [
            "The 7th Fibonacci number is: 13\n",
            "The 10th Fibonacci number is: 55\n",
            "The 0th Fibonacci number is: 0\n",
            "The 1th Fibonacci number is: 1\n",
            "Error: Input must be a non-negative integer.\n",
            "Error: Input must be a non-negative integer.\n"
          ]
        }
      ]
    },
    {
      "cell_type": "markdown",
      "source": [
        "EXPLANATION:This Python code defines a function fibonacci_recursive that calculates the nth Fibonacci number using recursion.\n",
        " HOW IT WORKS:\n",
        " 1. This Python code defines a function fibonacci_recursive that calculates the nth Fibonacci number using recursion.\n",
        " 2. Docstring: The triple-quoted string right after the function definition is a docstring. It explains what the function does, its arguments (Args), what it returns (Returns), and any potential errors it might raise (Raises). This serves as documentation for the function.\n",
        " 3. Input Validation: if not isinstance(n, int) or n < 0:\n",
        "    .This is an important step for error handling. It checks if the input n is not an integer or if it's a negative number.\n",
        "    .If the input is invalid, it raises a ValueError with a descriptive message, indicating that the input must be a non-negative integer.\n",
        "4. Base Cases: if n <= 1:\n",
        "   .In recursion, base cases are essential to stop the recursive calls and prevent infinite loops.\n",
        "   . The Fibonacci sequence starts with 0 and 1. So, if n is 0 or 1, the function directly returns n. These are the base cases: fibonacci(0) = 0 and fibonacci(1) = 1.\n",
        "5. Recursive Step: else: return fibonacci_recursive(n - 1) + fibonacci_recursive (n - 2)\n",
        "6. Example Usage: The code then demonstrates how to use the fibonacci_recursive function with different values of n, including base cases and invalid inputs, and prints the results. The try...except block is used to gracefully handle the ValueError raised for invalid inputs.\n",
        " .In summary, the function breaks down the problem of finding the nth Fibonacci number into smaller, similar subproblems (finding the (n-1)th and (n-2)th Fibonacci numbers) until it reaches the base cases, and then it combines the results back up to find the final answer.\n"
      ],
      "metadata": {
        "id": "4XMo9dErh6-Z"
      }
    },
    {
      "cell_type": "markdown",
      "source": [
        "TASK 4:•\tAsk  to generate a job applicant scoring system based on input features (e.g., education, experience, gender, age). Analyze the scoring logic for bias or unfair weightings.\n"
      ],
      "metadata": {
        "id": "J0UPchJXjRt2"
      }
    },
    {
      "cell_type": "markdown",
      "source": [
        "PROMPT:•\tAsk  to generate a job applicant scoring system based on input features (e.g., education, experience, gender, age). Analyze the scoring logic for bias or unfair weightings."
      ],
      "metadata": {
        "id": "xOAtfFOijkAY"
      }
    },
    {
      "cell_type": "code",
      "source": [
        "import pandas as pd\n",
        "\n",
        "def score_applicant(applicant_data):\n",
        "    \"\"\"\n",
        "    Scores a job applicant based on provided features.\n",
        "\n",
        "    Args:\n",
        "      applicant_data (dict): A dictionary containing applicant features.\n",
        "                             Example: {'education': 'Masters', 'experience_years': 5,\n",
        "                                       'gender': 'Female', 'age': 30, 'skills': ['Python', 'SQL']}\n",
        "\n",
        "    Returns:\n",
        "      float: The calculated score for the applicant.\n",
        "    \"\"\"\n",
        "    score = 0\n",
        "\n",
        "    # Education weighting (example weights - adjust as needed)\n",
        "    education_weights = {\n",
        "        'High School': 1,\n",
        "        'Associates': 2,\n",
        "        'Bachelors': 3,\n",
        "        'Masters': 4,\n",
        "        'PhD': 5\n",
        "    }\n",
        "    score += education_weights.get(applicant_data.get('education', ''), 0) * 10 # Weighted by 10\n",
        "\n",
        "    # Experience weighting (example - 5 points per year)\n",
        "    experience_years = applicant_data.get('experience_years', 0)\n",
        "    score += experience_years * 5\n",
        "\n",
        "    # Skills weighting (example - 3 points per skill)\n",
        "    skills = applicant_data.get('skills', [])\n",
        "    score += len(skills) * 3\n",
        "\n",
        "    # --- Potential Bias Check ---\n",
        "    # Features like gender and age can introduce bias if not handled carefully.\n",
        "    # In this simplified example, we are NOT directly using gender or age in the core score calculation\n",
        "    # to avoid obvious direct bias.\n",
        "    # However, bias can still exist in how other features (like experience or education) correlate with\n",
        "    # demographic factors in your training data or predefined weights.\n",
        "\n",
        "    # Example of how NOT to directly use potentially biased features in scoring:\n",
        "    # if applicant_data.get('gender') == 'Female':\n",
        "    #     score -= 5 # This would be a clear example of bias!\n",
        "    # if applicant_data.get('age') < 25:\n",
        "    #     score += 2 # This could also introduce age bias.\n",
        "\n",
        "    # --- Analysis for Bias ---\n",
        "    # To analyze for bias, you would typically:\n",
        "    # 1. Collect a diverse dataset of applicants and their outcomes (e.g., hired/not hired).\n",
        "    # 2. Train a scoring model on this data.\n",
        "    # 3. Analyze the model's performance and predicted scores across different demographic groups (gender, age, ethnicity, etc.).\n",
        "    # 4. Look for statistically significant differences in scores or outcomes between groups.\n",
        "    # 5. Use bias detection and mitigation techniques (e.g., fairness metrics, re-sampling, adversarial debiasing) if bias is detected.\n",
        "\n",
        "    return score\n",
        "\n",
        "# Example Usage:\n",
        "applicant1 = {'education': 'Bachelors', 'experience_years': 3, 'gender': 'Male', 'age': 28, 'skills': ['Java', 'API']}\n",
        "applicant2 = {'education': 'Masters', 'experience_years': 7, 'gender': 'Female', 'age': 35, 'skills': ['Python', 'SQL', 'Machine Learning']}\n",
        "applicant3 = {'education': 'High School', 'experience_years': 1, 'gender': 'Non-binary', 'age': 20, 'skills': []}\n",
        "\n",
        "\n",
        "score1 = score_applicant(applicant1)\n",
        "score2 = score_applicant(applicant2)\n",
        "score3 = score_applicant(applicant3)\n",
        "\n",
        "print(f\"Applicant 1 Score: {score1}\")\n",
        "print(f\"Applicant 2 Score: {score2}\")\n",
        "print(f\"Applicant 3 Score: {score3}\")\n",
        "\n",
        "# To analyze for bias programmatically:\n",
        "# You would need a larger dataset and potentially statistical tests or dedicated fairness libraries.\n",
        "# For this example, we can manually inspect the scores for our few examples:\n",
        "print(\"\\nManual Inspection for Bias (Limited Example):\")\n",
        "print(f\"Applicant 1 (Male, 28) Score: {score1}\")\n",
        "print(f\"Applicant 2 (Female, 35) Score: {score2}\")\n",
        "print(f\"Applicant 3 (Non-binary, 20) Score: {score3}\")\n",
        "\n",
        "# In this simple example, the scores are purely based on education, experience, and skills.\n",
        "# Any apparent differences are due to the values of these features, not direct use of gender or age.\n",
        "# However, if your historical hiring data (used to determine the 'ideal' weights for education/experience/skills)\n",
        "# was biased, this scoring system could still perpetuate that bias indirectly."
      ],
      "metadata": {
        "colab": {
          "base_uri": "https://localhost:8080/"
        },
        "id": "ulvQYHCtj3ev",
        "outputId": "1868775c-2fb1-485b-b9f6-222a62a0fc1c"
      },
      "execution_count": 4,
      "outputs": [
        {
          "output_type": "stream",
          "name": "stdout",
          "text": [
            "Applicant 1 Score: 51\n",
            "Applicant 2 Score: 84\n",
            "Applicant 3 Score: 15\n",
            "\n",
            "Manual Inspection for Bias (Limited Example):\n",
            "Applicant 1 (Male, 28) Score: 51\n",
            "Applicant 2 (Female, 35) Score: 84\n",
            "Applicant 3 (Non-binary, 20) Score: 15\n"
          ]
        }
      ]
    },
    {
      "cell_type": "markdown",
      "source": [
        "EXPLANTIONS:This Python code generates a basic job applicant scoring system based on input features and includes notes on how to analyze the scoring logic for potential bias.\n",
        "  1.import pandas as pd: Imports the pandas library, although it's not directly used in this specific function, it's often useful when working with applicant data in a more complex system.\n",
        "  2.score_applicant(applicant_data) function:\n",
        "      .Takes a dictionary applicant_data as input, which contains the features of an applicant (e.g., education, experience, gender, age, skills).\n",
        "      .Initializes a score variable to 0.\n",
        "      . Education weighting: Defines a dictionary education_weights to assign numerical weights to different education levels. It then adds a score based on the applicant's education level, multiplied by a weighting factor (10 in this example). The .get() method is used to safely retrieve the education level from the input dictionary and provide a default value if it's missing.\n",
        "3. Example Usage:\n",
        "     .Creates three example applicant_data dictionaries with different feature values, including different genders and ages.\n",
        "     .Calls the score_applicant function for each example applicant to calculate their scores.\n",
        "     .Prints the calculated scores for each applicant.\n",
        "      .Includes a \"Manual Inspection for Bias\" section that reiterates that in this simple example, the scores are based solely on education, experience, and skills, and any observed differences are due to the values of these features, not direct bias from gender or age. It also notes that indirect bias could still exist if the weights for education, experience, and skills were derived from biased historical data.\n",
        "In essence, the code provides a framework for a scoring system while explicitly pointing out the risks of incorporating sensitive attributes like gender and age directly and outlining the steps needed for a proper bias analysis in a more complex application."
      ],
      "metadata": {
        "id": "S0NUMucwlSG4"
      }
    }
  ]
}