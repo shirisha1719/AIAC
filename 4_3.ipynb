{
  "nbformat": 4,
  "nbformat_minor": 0,
  "metadata": {
    "colab": {
      "provenance": [],
      "authorship_tag": "ABX9TyMsMdP1usZ+2l3P72YdJfF9",
      "include_colab_link": true
    },
    "kernelspec": {
      "name": "python3",
      "display_name": "Python 3"
    },
    "language_info": {
      "name": "python"
    }
  },
  "cells": [
    {
      "cell_type": "markdown",
      "metadata": {
        "id": "view-in-github",
        "colab_type": "text"
      },
      "source": [
        "<a href=\"https://colab.research.google.com/github/shirisha1719/AIAC/blob/main/4_3.ipynb\" target=\"_parent\"><img src=\"https://colab.research.google.com/assets/colab-badge.svg\" alt=\"Open In Colab\"/></a>"
      ]
    },
    {
      "cell_type": "markdown",
      "source": [
        "Task1:Task1:Zero-shot: Prompt AI to write a function that checks whether a given year is a leap year.\n",
        "\n",
        "prompt:write a python function to check whether a given year is leap year in zero shot.\n"
      ],
      "metadata": {
        "id": "_VhP_EsIHqC4"
      }
    },
    {
      "cell_type": "code",
      "source": [
        "def is_leap(year):\n",
        "  \"\"\"Checks if a given year is a leap year.\"\"\"\n",
        "  return year % 4 == 0 and (year % 100 != 0 or year % 400 == 0)\n",
        "\n",
        "# Example usage:\n",
        "print(is_leap(2000))\n",
        "print(is_leap(1900))\n",
        "print(is_leap(2024))"
      ],
      "metadata": {
        "colab": {
          "base_uri": "https://localhost:8080/"
        },
        "id": "_jlBjMb0ISAM",
        "outputId": "102c7a5a-81e9-466d-cafd-a7c93dd1e6be"
      },
      "execution_count": 2,
      "outputs": [
        {
          "output_type": "stream",
          "name": "stdout",
          "text": [
            "True\n",
            "False\n",
            "True\n"
          ]
        }
      ]
    },
    {
      "cell_type": "markdown",
      "source": [],
      "metadata": {
        "id": "rro6HdvOHo_n"
      }
    }
  ]
}