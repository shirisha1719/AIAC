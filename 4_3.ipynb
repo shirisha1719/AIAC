{
  "nbformat": 4,
  "nbformat_minor": 0,
  "metadata": {
    "colab": {
      "provenance": [],
      "authorship_tag": "ABX9TyNOfXYmkL8hWbNvhDS3jBCy",
      "include_colab_link": true
    },
    "kernelspec": {
      "name": "python3",
      "display_name": "Python 3"
    },
    "language_info": {
      "name": "python"
    }
  },
  "cells": [
    {
      "cell_type": "markdown",
      "metadata": {
        "id": "view-in-github",
        "colab_type": "text"
      },
      "source": [
        "<a href=\"https://colab.research.google.com/github/shirisha1719/AIAC/blob/main/4_3.ipynb\" target=\"_parent\"><img src=\"https://colab.research.google.com/assets/colab-badge.svg\" alt=\"Open In Colab\"/></a>"
      ]
    },
    {
      "cell_type": "markdown",
      "source": [
        "Task1:Task1:Zero-shot: Prompt AI to write a function that checks whether a given year is a leap year.\n",
        "\n",
        "prompt:write a python function to check whether a given year is leap year in zero shot.\n"
      ],
      "metadata": {
        "id": "_VhP_EsIHqC4"
      }
    },
    {
      "cell_type": "code",
      "source": [
        "def is_leap(year):\n",
        "  \"\"\"Checks if a given year is a leap year.\"\"\"\n",
        "  return year % 4 == 0 and (year % 100 != 0 or year % 400 == 0)\n",
        "\n",
        "# Example usage:\n",
        "print(is_leap(2000))\n",
        "print(is_leap(1900))\n",
        "print(is_leap(2024))"
      ],
      "metadata": {
        "colab": {
          "base_uri": "https://localhost:8080/"
        },
        "id": "_jlBjMb0ISAM",
        "outputId": "102c7a5a-81e9-466d-cafd-a7c93dd1e6be"
      },
      "execution_count": 2,
      "outputs": [
        {
          "output_type": "stream",
          "name": "stdout",
          "text": [
            "True\n",
            "False\n",
            "True\n"
          ]
        }
      ]
    },
    {
      "cell_type": "markdown",
      "source": [
        "Task2:One-shot: Give one input-output example to guide AI in writing a function that converts centimeters to inches.\n",
        "\n",
        "Prompt:write a python code to convert centimeters into inches in one shot"
      ],
      "metadata": {
        "id": "LNL2CsUnInch"
      }
    },
    {
      "cell_type": "markdown",
      "source": [],
      "metadata": {
        "id": "rro6HdvOHo_n"
      }
    },
    {
      "cell_type": "code",
      "source": [
        "def cm_to_inches(cm):\n",
        "  \"\"\"Converts centimeters to inches.\"\"\"\n",
        "  return cm * 0.393701\n",
        "\n",
        "# One-shot example:\n",
        "# Convert 100 centimeters to inches\n",
        "print(f\"100 cm is equal to {cm_to_inches(100)} inches\")"
      ],
      "metadata": {
        "colab": {
          "base_uri": "https://localhost:8080/"
        },
        "id": "s4BNdpEgJBUn",
        "outputId": "e54416c1-758b-452a-ca0e-90b891652882"
      },
      "execution_count": 4,
      "outputs": [
        {
          "output_type": "stream",
          "name": "stdout",
          "text": [
            "100 cm is equal to 39.3701 inches\n"
          ]
        }
      ]
    },
    {
      "cell_type": "markdown",
      "source": [
        "Task3:Few-shot: Provide 2–3 examples to generate a function that formats full names as “Last, First”.\n",
        "\n",
        "Prompt:write a python code to generate a function that formats full names as \"Last,First\" with few examples."
      ],
      "metadata": {
        "id": "NCUIOpgkJcsG"
      }
    },
    {
      "cell_type": "code",
      "source": [
        "def format_name(full_name):\n",
        "  \"\"\"Formats a full name as 'Last, First'.\"\"\"\n",
        "  names = full_name.split()\n",
        "  if len(names) > 1:\n",
        "    return f\"{names[-1]}, {' '.join(names[:-1])}\"\n",
        "  else:\n",
        "    return full_name\n",
        "\n",
        "# Few-shot examples:\n",
        "print(format_name(\"John Doe\"))\n",
        "print(format_name(\"Jane Smith\"))\n",
        "print(format_name(\"Peter Pan\"))"
      ],
      "metadata": {
        "colab": {
          "base_uri": "https://localhost:8080/"
        },
        "id": "raRRE3f6KEmP",
        "outputId": "cd939022-819b-4c3b-b558-c8aa8a8ceed1"
      },
      "execution_count": 5,
      "outputs": [
        {
          "output_type": "stream",
          "name": "stdout",
          "text": [
            "Doe, John\n",
            "Smith, Jane\n",
            "Pan, Peter\n"
          ]
        }
      ]
    },
    {
      "cell_type": "code",
      "source": [
        "Task4:Compare zero-shot and few-shot prompts for writing a function that counts the number of vowels in a string.\n",
        "\n",
        "Prompt1:write a python function that counts number of vowels in a string in one shot. prompt2:wite a python function that counts the number of vowels in a string in few shots."
      ],
      "metadata": {
        "id": "ClCms3zuJxNZ"
      },
      "execution_count": null,
      "outputs": []
    },
    {
      "cell_type": "code",
      "source": [],
      "metadata": {
        "id": "zSo3-Z7GKw8v"
      },
      "execution_count": null,
      "outputs": []
    },
    {
      "cell_type": "code",
      "source": [],
      "metadata": {
        "id": "MgcyXQD3Kvdt"
      },
      "execution_count": null,
      "outputs": []
    },
    {
      "cell_type": "code",
      "source": [],
      "metadata": {
        "id": "n-sdts-LKvCj"
      },
      "execution_count": null,
      "outputs": []
    },
    {
      "cell_type": "code",
      "source": [],
      "metadata": {
        "id": "p2htS4vtKuwP"
      },
      "execution_count": null,
      "outputs": []
    },
    {
      "cell_type": "code",
      "source": [],
      "metadata": {
        "id": "ssv33JjfKmX9"
      },
      "execution_count": null,
      "outputs": []
    },
    {
      "cell_type": "code",
      "metadata": {
        "id": "2210659a"
      },
      "source": [
        "# One-shot approach\n",
        "def count_vowels_one_shot(text):\n",
        "  \"\"\"Counts the number of vowels in a string (one-shot).\"\"\"\n",
        "  vowels = \"aeiouAEIOU\"\n",
        "  count = 0\n",
        "  for char in text:\n",
        "    if char in vowels:\n",
        "      count += 1\n",
        "  return count\n",
        "\n",
        "# Example usage for one-shot:\n",
        "print(f\"Number of vowels in 'Hello World' (one-shot): {count_vowels_one_shot('Hello World')}\")"
      ],
      "execution_count": null,
      "outputs": []
    },
    {
      "cell_type": "code",
      "metadata": {
        "colab": {
          "base_uri": "https://localhost:8080/"
        },
        "id": "22c28b09",
        "outputId": "57de908b-9686-4095-bc4c-c4e97cf2b72e"
      },
      "source": [
        "# Few-shot approach\n",
        "def count_vowels_few_shot(text):\n",
        "  \"\"\"Counts the number of vowels in a string (few-shot).\"\"\"\n",
        "  vowels = \"aeiouAEIOU\"\n",
        "  count = 0\n",
        "  for char in text:\n",
        "    if char in vowels:\n",
        "      count += 1\n",
        "  return count\n",
        "\n",
        "# Few-shot examples:\n",
        "print(f\"Number of vowels in 'Python' (few-shot): {count_vowels_few_shot('Python')}\")\n",
        "print(f\"Number of vowels in 'Programming' (few-shot): {count_vowels_few_shot('Programming')}\")"
      ],
      "execution_count": 6,
      "outputs": [
        {
          "output_type": "stream",
          "name": "stdout",
          "text": [
            "Number of vowels in 'Python' (few-shot): 1\n",
            "Number of vowels in 'Programming' (few-shot): 3\n"
          ]
        }
      ]
    }
  ]
}