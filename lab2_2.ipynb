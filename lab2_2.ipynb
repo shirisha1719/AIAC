{
  "nbformat": 4,
  "nbformat_minor": 0,
  "metadata": {
    "colab": {
      "provenance": [],
      "authorship_tag": "ABX9TyMfvIrh8BNX7mL6b0uBVPg+",
      "include_colab_link": true
    },
    "kernelspec": {
      "name": "python3",
      "display_name": "Python 3"
    },
    "language_info": {
      "name": "python"
    }
  },
  "cells": [
    {
      "cell_type": "markdown",
      "metadata": {
        "id": "view-in-github",
        "colab_type": "text"
      },
      "source": [
        "<a href=\"https://colab.research.google.com/github/shirisha1719/AIAC/blob/main/lab2_2.ipynb\" target=\"_parent\"><img src=\"https://colab.research.google.com/assets/colab-badge.svg\" alt=\"Open In Colab\"/></a>"
      ]
    },
    {
      "cell_type": "code",
      "execution_count": null,
      "metadata": {
        "id": "N6NnFGQo1v-M"
      },
      "outputs": [],
      "source": [
        "Write a python code that filters out all the negative numbers from a given list"
      ]
    },
    {
      "cell_type": "code",
      "source": [],
      "metadata": {
        "id": "JOvxMKXt3R_a"
      },
      "execution_count": null,
      "outputs": []
    },
    {
      "cell_type": "code",
      "metadata": {
        "colab": {
          "base_uri": "https://localhost:8080/"
        },
        "id": "92765f99",
        "outputId": "37bd3e22-6778-4462-c57b-f463278861d0"
      },
      "source": [
        "def filter_negative_numbers(input_string):\n",
        "  \"\"\"Filters out negative numbers from a comma-separated string of numbers.\"\"\"\n",
        "  try:\n",
        "    my_list = [int(x.strip()) for x in input_string.split(',')]\n",
        "    filtered_list = [x for x in my_list if x >= 0]\n",
        "    return filtered_list\n",
        "  except ValueError:\n",
        "    return \"Invalid input. Please enter numbers separated by commas.\"\n",
        "\n",
        "# Get dynamic input from the user\n",
        "user_input = input(\"Enter a list of numbers separated by commas (e.g., 1, -2, 3): \")\n",
        "\n",
        "# Call the function and print the result\n",
        "result = filter_negative_numbers(user_input)\n",
        "print(result)"
      ],
      "execution_count": 6,
      "outputs": [
        {
          "output_type": "stream",
          "name": "stdout",
          "text": [
            "Enter a list of numbers separated by commas (e.g., 1, -2, 3): 1,-2,3,-5\n",
            "[1, 3]\n"
          ]
        }
      ]
    },
    {
      "cell_type": "markdown",
      "source": [
        "try:\n",
        "    my_list = [int(x.strip()) for x in input_string.split(',')]\n",
        "    filtered_list = [x for x in my_list if x >= 0]\n",
        "    return filtered_list\n",
        "  except ValueError:\n",
        "    return \"Invalid input. Please enter numbers separated by commas.\"\n",
        "    \n"
      ],
      "metadata": {
        "id": "MpqBbQhq4eL1"
      }
    },
    {
      "cell_type": "markdown",
      "source": [
        "try...except ValueError: This block attempts to execute the code within the try block. If a ValueError occurs (which would happen if the user enters something that cannot be converted to an integer), the code within the except block is executed.\n",
        "\n",
        "input_string.split(','): Splits the input string into a list of substrings using the comma as a delimiter.\n",
        "x.strip(): For each substring (x), this removes any leading or trailing whitespace.\n",
        "\n",
        "It iterates through each number (x) in my_list.\n",
        "if x >= 0: It checks if the number is greater than or equal to 0 (i.e., not negative).\n",
        "If the condition is true, the number (x) is included in the new list called filtered_list.\n",
        "numbers separated by commas.\": If a ValueError occurs during the conversion to integers, this message is returned to the user."
      ],
      "metadata": {
        "id": "5HfUeNbO4soU"
      }
    },
    {
      "cell_type": "markdown",
      "source": [],
      "metadata": {
        "id": "O23rx-4Q4Jlu"
      }
    },
    {
      "cell_type": "markdown",
      "source": [],
      "metadata": {
        "id": "ZGutMnh-4apI"
      }
    }
  ]
}