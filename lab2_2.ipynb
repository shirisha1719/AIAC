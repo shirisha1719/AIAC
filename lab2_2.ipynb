{
  "nbformat": 4,
  "nbformat_minor": 0,
  "metadata": {
    "colab": {
      "provenance": [],
      "authorship_tag": "ABX9TyMJqZNkHQD6tSt81hcPl4t/",
      "include_colab_link": true
    },
    "kernelspec": {
      "name": "python3",
      "display_name": "Python 3"
    },
    "language_info": {
      "name": "python"
    }
  },
  "cells": [
    {
      "cell_type": "markdown",
      "metadata": {
        "id": "view-in-github",
        "colab_type": "text"
      },
      "source": [
        "<a href=\"https://colab.research.google.com/github/shirisha1719/AIAC/blob/main/lab2_2.ipynb\" target=\"_parent\"><img src=\"https://colab.research.google.com/assets/colab-badge.svg\" alt=\"Open In Colab\"/></a>"
      ]
    },
    {
      "cell_type": "code",
      "execution_count": null,
      "metadata": {
        "id": "N6NnFGQo1v-M"
      },
      "outputs": [],
      "source": [
        "TASK 1 Write a python code that filters out all the negative numbers from a given list"
      ]
    },
    {
      "cell_type": "code",
      "source": [],
      "metadata": {
        "id": "JOvxMKXt3R_a"
      },
      "execution_count": null,
      "outputs": []
    },
    {
      "cell_type": "code",
      "metadata": {
        "colab": {
          "base_uri": "https://localhost:8080/"
        },
        "id": "92765f99",
        "outputId": "ecd5a127-df28-47bc-a26e-07dd1baf8f9a"
      },
      "source": [
        "def filter_negative_numbers(input_string):\n",
        "  \"\"\"Filters out negative numbers from a comma-separated string of numbers.\"\"\"\n",
        "  try:\n",
        "    my_list = [int(x.strip()) for x in input_string.split(',')]\n",
        "    filtered_list = [x for x in my_list if x >= 0]\n",
        "    return filtered_list\n",
        "  except ValueError:\n",
        "    return \"Invalid input. Please enter numbers separated by commas.\"\n",
        "\n",
        "# Get dynamic input from the user\n",
        "user_input = input(\"Enter a list of numbers separated by commas (e.g., 1, -2, 3): \")\n",
        "\n",
        "# Call the function and print the result\n",
        "result = filter_negative_numbers(user_input)\n",
        "print(result)"
      ],
      "execution_count": null,
      "outputs": [
        {
          "output_type": "stream",
          "name": "stdout",
          "text": [
            "Enter a list of numbers separated by commas (e.g., 1, -2, 3): 1,-2,-5,7,3,-9\n",
            "[1, 7, 3]\n"
          ]
        }
      ]
    },
    {
      "cell_type": "markdown",
      "source": [],
      "metadata": {
        "id": "O23rx-4Q4Jlu"
      }
    },
    {
      "cell_type": "markdown",
      "source": [
        "EXPLANATION:"
      ],
      "metadata": {
        "id": "4p0sD2ii6D5-"
      }
    },
    {
      "cell_type": "code",
      "source": [
        "try:\n",
        "    my_list = [int(x.strip()) for x in input_string.split(',')]\n",
        "    filtered_list = [x for x in my_list if x >= 0]\n",
        "    return filtered_list\n",
        "  except ValueError:\n",
        "    return \"Invalid input. Please enter numbers separated by commas.\""
      ],
      "metadata": {
        "id": "dFy-OBYK6ctK"
      },
      "execution_count": null,
      "outputs": []
    },
    {
      "cell_type": "markdown",
      "source": [],
      "metadata": {
        "id": "ZGutMnh-4apI"
      }
    },
    {
      "cell_type": "markdown",
      "source": [
        "EXPLANATION: TAKE the function name as filter_negative_numbers.\n",
        "my_list =[int(x.strip()) for x in input_string.split(',')] filtered_list = [x for x in my_list if x >= 0] return filtered_list except ValueError: return Invalid input. Please enter numbers separated by commas.This code takes a string of numbers\n",
        "separated by commas, turns them into a list of integers, and then creates a new list containing only the numbers that are not negative. If the input isn't valid numbers separated by commas, it will tell you."
      ],
      "metadata": {
        "id": "LpusjXFD7nUn"
      }
    },
    {
      "cell_type": "markdown",
      "source": [
        "TASK 2:\n",
        "Generate a code that reads a text file and counts the frequency of each word.then ask it to explain the code.\n"
      ],
      "metadata": {
        "id": "sxRcJjTw-YjD"
      }
    },
    {
      "cell_type": "code",
      "source": [
        "import collections\n",
        "\n",
        "def count_word_frequency(file_path):\n",
        "  \"\"\"Reads a text file and counts the frequency of each word.\"\"\"\n",
        "  word_counts = collections.Counter()\n",
        "  try:\n",
        "    with open(file_path, 'r') as f:\n",
        "      for line in f:\n",
        "        # Simple tokenization by splitting on whitespace and removing punctuation\n",
        "        words = line.lower().split()\n",
        "        words = [word.strip('.,!?\"\\'();:') for word in words]\n",
        "        words = [word for word in words if word] # Remove empty strings\n",
        "        word_counts.update(words)\n",
        "    return word_counts\n",
        "  except FileNotFoundError:\n",
        "    return f\"Error: File not found at {file_path}\"\n",
        "  except Exception as e:\n",
        "    return f\"An error occurred: {e}\"\n",
        "\n",
        "# Example usage:\n",
        "# Create a dummy file for demonstration\n",
        "with open(\"sample_text.txt\", \"w\") as f:\n",
        "    f.write(\"This is a sample text file.\\n\")\n",
        "    f.write(\"This file contains sample text for word counting.\")\n",
        "\n",
        "file_path = \"sample_text.txt\"\n",
        "word_frequencies = count_word_frequency(file_path)\n",
        "\n",
        "if isinstance(word_frequencies, dict):\n",
        "  print(f\"Word frequencies in '{file_path}':\")\n",
        "  for word, count in word_frequencies.most_common():\n",
        "    print(f\"{word}: {count}\")\n",
        "else:\n",
        "  print(word_frequencies) # Print error message"
      ],
      "metadata": {
        "id": "HgK5EKI1_8Bj"
      },
      "execution_count": null,
      "outputs": []
    },
    {
      "cell_type": "markdown",
      "source": [
        "EXPLANATION:"
      ],
      "metadata": {
        "id": "Br5vAhtb_PdN"
      }
    },
    {
      "cell_type": "markdown",
      "source": [
        "This code defines a function count_word_frequency that takes a file path as input and returns a dictionary-like object (collections.Counter) containing the frequency of each word in the file.\n",
        ".Import collections: This line imports the collections module\n",
        ".Define count_word_frequency function:\n",
        "It initializes an empty Counter object called word_counts.\n",
        "It uses a try...except block to handle potential errors like FileNotFoundError.\n",
        "Inside the try block, it opens the specified file in read mode ('r').\n",
        ".It sets the file_path variable to the name of this dummy file.\n",
        ".It calls the count_word_frequency function with the file path.\n"
      ],
      "metadata": {
        "id": "dnuKa8y8Rx18"
      }
    },
    {
      "cell_type": "markdown",
      "source": [],
      "metadata": {
        "id": "y5Q6zO1aRjXO"
      }
    },
    {
      "cell_type": "markdown",
      "source": [
        "TASK 3\n",
        "Use  Gemini to generate a python class called Book with attributes title,auyhon,and method summary()that prints the details.\n"
      ],
      "metadata": {
        "id": "tpp7GcgqTJP1"
      }
    },
    {
      "cell_type": "code",
      "source": [
        "class Book:\n",
        "  \"\"\"Represents a book with title and author.\"\"\"\n",
        "  def __init__(self, title, author):\n",
        "    self.title = title\n",
        "    self.author = author\n",
        "\n",
        "  def summary(self):\n",
        "    \"\"\"Prints the details of the book.\"\"\"\n",
        "    print(f\"Title: {self.title}\")\n",
        "    print(f\"Author: {self.author}\")\n",
        "\n",
        "# Example usage:\n",
        "my_book = Book(\"The Hitchhiker's Guide to the Galaxy\", \"Douglas Adams\")\n",
        "my_book.summary()"
      ],
      "metadata": {
        "colab": {
          "base_uri": "https://localhost:8080/"
        },
        "id": "uU9zTU11T7QP",
        "outputId": "6314ee51-3238-42e2-9470-6a9e60527401"
      },
      "execution_count": 2,
      "outputs": [
        {
          "output_type": "stream",
          "name": "stdout",
          "text": [
            "Title: The Hitchhiker's Guide to the Galaxy\n",
            "Author: Douglas Adams\n"
          ]
        }
      ]
    },
    {
      "cell_type": "markdown",
      "source": [
        "EXPLANATION:"
      ],
      "metadata": {
        "id": "O4aY7icaUzLY"
      }
    },
    {
      "cell_type": "markdown",
      "source": [
        "Take the function as class book.\n",
        ".def __init__(self, title, author):: This is what happens when you make a new book. You tell it the title and the author, and it remembers those things for that specific book.\n",
        ".the line gives self.title = title: This means \"for this book, store the title you were given.\"\n",
        ".def summary(self):: This is something a Book can do.\n",
        ".print(f\"Title: {self.title}\"): When you ask a book for its summary, it will print out its title.\n",
        ".my_book = Book(\"The Hitchhiker's Guide to the Galaxy\", \"Douglas Adams\"): This is like creating an actual book using the blueprint. We're calling it my_book and giving it a title and autho\n",
        ".my_book.summary(): This is asking my_book to do its summary action, which will print out its details.\n"
      ],
      "metadata": {
        "id": "-tfJHDs3Vgsg"
      }
    },
    {
      "cell_type": "markdown",
      "source": [
        "TASK 4\n",
        " Ask gemini to write a program that check whether a number a number is an armstrong number ,and then modify it using cursor AI to improve performance or structure."
      ],
      "metadata": {
        "id": "RNbQWglVZV3e"
      }
    },
    {
      "cell_type": "code",
      "source": [
        "def is_armstrong_number(number):\n",
        "  \"\"\"Checks if a number is an Armstrong number.\"\"\"\n",
        "  # Convert the number to a string to get the number of digits\n",
        "  num_str = str(number)\n",
        "  num_digits = len(num_str)\n",
        "\n",
        "  # Calculate the sum of digits raised to the power of the number of digits\n",
        "  sum_of_powers = 0\n",
        "  for digit in num_str:\n",
        "    sum_of_powers += int(digit) ** num_digits\n",
        "\n",
        "  # Check if the sum of powers equals the original number\n",
        "  return sum_of_powers == number\n",
        "\n",
        "# Get input from the user\n",
        "try:\n",
        "  num = int(input(\"Enter a number to check if it's an Armstrong number: \"))\n",
        "  if is_armstrong_number(num):\n",
        "    print(f\"{num} is an Armstrong number.\")\n",
        "  else:\n",
        "    print(f\"{num} is not an Armstrong number.\")\n",
        "except ValueError:\n",
        "  print(\"Invalid input. Please enter an integer.\")"
      ],
      "metadata": {
        "id": "RLRQKbpTbind"
      },
      "execution_count": 10,
      "outputs": []
    },
    {
      "cell_type": "markdown",
      "source": [
        "Explanation:\n",
        "This code checks if a number is an Armstrong number. It works by:\n",
        "\n",
        "Counting the number of digits in the number.\n",
        "Adding up each digit raised to the power of the number of digits.\n",
        "Comparing this sum to the original number. If they are the same, it's an Armstrong number.\n"
      ],
      "metadata": {
        "id": "tyULWHv8b8Th"
      }
    },
    {
      "cell_type": "markdown",
      "source": [
        "TASK 5\n",
        "Use Gemini  to generate code for sorting a list of distionaries by a specific key(e.g., age)"
      ],
      "metadata": {
        "id": "VuDCElnccj7b"
      }
    },
    {
      "cell_type": "code",
      "source": [
        "def sort_list_of_dictionaries(list_of_dicts, key_to_sort_by):\n",
        "  \"\"\"Sorts a list of dictionaries by a specific key.\"\"\"\n",
        "  return sorted(list_of_dicts, key=lambda x: x[key_to_sort_by])\n",
        "\n",
        "# Example usage:\n",
        "people = [\n",
        "    {'name': 'Sanaa', 'age': 19},\n",
        "    {'name': 'Sam', 'age': 20},\n",
        "    {'name': 'Sri', 'age': 18},\n",
        "    {'name': 'Vyshu', 'age': 22}\n",
        "]\n",
        "\n",
        "sorted_people = sort_list_of_dictionaries(people, 'age')\n",
        "\n",
        "print(\"Original list:\")\n",
        "print(people)\n",
        "print(\"\\nSorted list by age:\")\n",
        "print(sorted_people)"
      ],
      "metadata": {
        "colab": {
          "base_uri": "https://localhost:8080/"
        },
        "id": "nuMLOlTidMuU",
        "outputId": "84aa8d65-4820-4a99-fbff-5a40b66e7047"
      },
      "execution_count": 10,
      "outputs": [
        {
          "output_type": "stream",
          "name": "stdout",
          "text": [
            "Original list:\n",
            "[{'name': 'Sanaa', 'age': 19}, {'name': 'Sam', 'age': 20}, {'name': 'Sri', 'age': 18}, {'name': 'Vyshu', 'age': 22}]\n",
            "\n",
            "Sorted list by age:\n",
            "[{'name': 'Sri', 'age': 18}, {'name': 'Sanaa', 'age': 19}, {'name': 'Sam', 'age': 20}, {'name': 'Vyshu', 'age': 22}]\n"
          ]
        }
      ]
    },
    {
      "cell_type": "markdown",
      "source": [
        "EXPLANATION:"
      ],
      "metadata": {
        "id": "0uRXHkdqeK2j"
      }
    },
    {
      "cell_type": "markdown",
      "source": [
        ".Def sort_list_of_dictionaries(list_of_dicts, key_to_sort_by):: This defines a function named sort_list_of_dictionaries that takes two arguments: list_of_dicts (the list of dictionaries you want to sort) and key_to_sort_by (the key within each dictionary that you want to use for sorting).\n",
        ".return sorted(list_of_dicts, key=lambda x: x[key_to_sort_by]): This is the core of the sorting.\n",
        ".Sorted_people = sort_list_of_dictionaries(people, 'age'): This calls the sorting function, passing the people list and the key 'age'. The result (the sorted list) is stored in sorted_people.\n",
        ".In essence, the key=lambda x: x[key_to_sort_by] part tells the sorted function to look at the value of the specified key within each dictionary when deciding how to arrange them.\n",
        "\n"
      ],
      "metadata": {
        "id": "TnnCawAsfD__"
      }
    }
  ]
}